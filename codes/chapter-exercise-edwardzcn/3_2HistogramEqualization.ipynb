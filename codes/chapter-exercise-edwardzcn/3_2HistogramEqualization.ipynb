{
 "cells": [
  {
   "cell_type": "code",
   "execution_count": 1,
   "metadata": {
    "ExecuteTime": {
     "end_time": "2019-09-23T00:23:01.102529Z",
     "start_time": "2019-09-23T00:23:00.134360Z"
    },
    "cell_style": "center"
   },
   "outputs": [],
   "source": [
    "import numpy as np\n",
    "import cv2\n",
    "import imageio\n",
    "import matplotlib.pyplot as plt"
   ]
  },
  {
   "cell_type": "code",
   "execution_count": 2,
   "metadata": {
    "ExecuteTime": {
     "end_time": "2019-09-23T00:23:01.777693Z",
     "start_time": "2019-09-23T00:23:01.103528Z"
    },
    "cell_style": "center"
   },
   "outputs": [],
   "source": [
    "def GetRGB(path):\n",
    "    im_BGR = cv2.imread(path,cv2.COLOR_GRAY2RGB)\n",
    "    im = cv2.cvtColor(im_BGR,cv2.COLOR_BGR2RGB)\n",
    "    return im\n",
    "\n",
    "# 设置为你的图片\n",
    "# im = GetRGB('./3_2Photo/1.jpg')"
   ]
  },
  {
   "cell_type": "code",
   "execution_count": 1,
   "metadata": {
    "ExecuteTime": {
     "end_time": "2019-09-23T00:27:46.101431Z",
     "start_time": "2019-09-23T00:27:30.995465Z"
    },
    "scrolled": true
   },
   "outputs": [
    {
     "ename": "NameError",
     "evalue": "name 'im' is not defined",
     "output_type": "error",
     "traceback": [
      "\u001b[0;31m---------------------------------------------------------------------------\u001b[0m",
      "\u001b[0;31mNameError\u001b[0m                                 Traceback (most recent call last)",
      "\u001b[0;32m<ipython-input-1-a6dc48403f6d>\u001b[0m in \u001b[0;36m<module>\u001b[0;34m\u001b[0m\n\u001b[1;32m     64\u001b[0m \u001b[0;34m\u001b[0m\u001b[0m\n\u001b[1;32m     65\u001b[0m \u001b[0;34m\u001b[0m\u001b[0m\n\u001b[0;32m---> 66\u001b[0;31m \u001b[0mred_channel_he\u001b[0m\u001b[0;34m,\u001b[0m\u001b[0mred_lut_table\u001b[0m \u001b[0;34m=\u001b[0m \u001b[0mHistogramEqualizationLUT\u001b[0m\u001b[0;34m(\u001b[0m\u001b[0mim\u001b[0m\u001b[0;34m[\u001b[0m\u001b[0;34m:\u001b[0m\u001b[0;34m,\u001b[0m\u001b[0;34m:\u001b[0m\u001b[0;34m,\u001b[0m\u001b[0;36m0\u001b[0m\u001b[0;34m]\u001b[0m\u001b[0;34m)\u001b[0m\u001b[0;34m\u001b[0m\u001b[0;34m\u001b[0m\u001b[0m\n\u001b[0m\u001b[1;32m     67\u001b[0m \u001b[0mall_he\u001b[0m\u001b[0;34m,\u001b[0m\u001b[0mlut_table\u001b[0m \u001b[0;34m=\u001b[0m \u001b[0mHistogramEqualizationLUT\u001b[0m\u001b[0;34m(\u001b[0m\u001b[0mim\u001b[0m\u001b[0;34m)\u001b[0m\u001b[0;34m\u001b[0m\u001b[0;34m\u001b[0m\u001b[0m\n\u001b[1;32m     68\u001b[0m \u001b[0;34m\u001b[0m\u001b[0m\n",
      "\u001b[0;31mNameError\u001b[0m: name 'im' is not defined"
     ]
    }
   ],
   "source": [
    "# 尝试直方图均衡化， \n",
    "def CaculateHistogram(input_image):\n",
    "    # 参数1. 单通道8位灰度图像\n",
    "    # 输出1. 总像素值  \n",
    "    # 输出2. 灰度值分布计数\n",
    "    # 输出3. 灰度值分布前缀和（用来做后续直方图平局奴化）\n",
    "    \n",
    "    # 区分通道\n",
    "    if len(np.shape(input_image)) == 3:\n",
    "           height,width,level = np.shape(input_image)\n",
    "           summ = height*width*level\n",
    "    else :\n",
    "           height,width = np.shape(input_image)\n",
    "           summ = height*width\n",
    "\n",
    "    \n",
    "#     第一种 通过访问指定位置像素  耗时executed in 7m 9s\n",
    "#     巨慢无比\n",
    "#     for i in range(height):\n",
    "#         for j in range(width):\n",
    "#             caculate_num[input_image[i][j]] += 1\n",
    "            \n",
    "#     第二种 直接拆分行，像素获取像素值  耗时executed in 14.4s\n",
    "#     for line in input_image:\n",
    "#         for px in line:\n",
    "#             caculate_num[px] +=1 \n",
    "\n",
    "#     第三种 调用np.histogram()方法  耗时executed in 644ms\n",
    "    caculate_num,index_x = GetHistogramArray(input_image)\n",
    "    caculate_num = np.append(caculate_num,1)\n",
    "#     print(np.shape(caculate_num))\n",
    "    #     第四种 吕少推荐的方法(还没看懂)\n",
    "#     caculate_num = cumsum(input_image,256)\n",
    "#     print(np.shape(caculate_num))\n",
    "    \n",
    "    sum_num = np.copy(caculate_num)\n",
    "    for i in range(1,256):\n",
    "#         print(sum_num[i-1],caculate_num[i])\n",
    "        sum_num[i] = sum_num[i-1] + sum_num[i]\n",
    "    return summ,caculate_num,sum_num\n",
    "    \n",
    "def GetHistogramArray(image):\n",
    "    return np.histogram(image,np.arange(0,256));\n",
    "\n",
    "def cumsum(img, bins):\n",
    "    \n",
    "    histogram = np.zeros(bins)\n",
    "    for pixel in np.arange(0, bins, 1):\n",
    "        histogram[pixel] += len(img[img==pixel])\n",
    "        \n",
    "    return histogram\n",
    "    \n",
    "def HistogramEqualizationLUT(input_image):\n",
    "    # 参数1, 单通道8位灰度图像\n",
    "    # 输出1. 单通道8位灰度图像（直方图均衡化后）\n",
    "    size,data,data_sum = CaculateHistogram(input_image)\n",
    "    fxy  = lambda x: (255*data_sum[x])//size\n",
    "    table = np.array([fxy(i) for i in range(256)])\n",
    "#     print(table)\n",
    "#     不可以这样\n",
    "#     image_new = table[input_image]\n",
    "    lut = lambda x: table[x]\n",
    "    return lut(input_image),table\n",
    "\n",
    "\n",
    "red_channel_he,red_lut_table = HistogramEqualizationLUT(im[:,:,0])\n",
    "all_he,lut_table = HistogramEqualizationLUT(im)\n",
    "\n",
    "\n",
    "plt.figure(figsize=(20,10))\n",
    "ax1 = plt.subplot(231)\n",
    "ax1.set_title(\"Original\")\n",
    "ax1.imshow(im)\n",
    "\n",
    "ax2 = plt.subplot(232)\n",
    "ax2.set_title(\"Red Channel HE\")\n",
    "ax2.imshow(red_channel_he, cmap = 'gray')\n",
    "\n",
    "\n",
    "new_im = np.copy(im)\n",
    "new_im[:,:,0] = red_channel_he\n",
    "ax3 = plt.subplot(233)\n",
    "ax3.set_title(\"Image With Red Channel HE\")\n",
    "ax3.imshow(new_im)\n",
    "\n",
    "ax4 = plt.subplot(234)\n",
    "ax4.set_title(\"Original\")\n",
    "ax4.imshow(im)\n",
    "\n",
    "ax5 = plt.subplot(235)\n",
    "ax5.set_title(\"All Channel Together HE\")\n",
    "ax5.imshow(all_he,cmap = \"gray\")\n",
    "\n",
    "ax6 = plt.subplot(236)\n",
    "ax6.set_title(\"All Channel Together HE\")\n",
    "ax6.imshow(all_he)\n",
    "\n",
    "plt.show()\n"
   ]
  },
  {
   "cell_type": "code",
   "execution_count": 2,
   "metadata": {
    "ExecuteTime": {
     "end_time": "2019-09-23T00:23:34.444862Z",
     "start_time": "2019-09-23T00:23:17.991647Z"
    },
    "scrolled": true
   },
   "outputs": [
    {
     "ename": "NameError",
     "evalue": "name 'im' is not defined",
     "output_type": "error",
     "traceback": [
      "\u001b[0;31m---------------------------------------------------------------------------\u001b[0m",
      "\u001b[0;31mNameError\u001b[0m                                 Traceback (most recent call last)",
      "\u001b[0;32m<ipython-input-2-059c4c8470e8>\u001b[0m in \u001b[0;36m<module>\u001b[0;34m\u001b[0m\n\u001b[1;32m     40\u001b[0m     \u001b[0mplt\u001b[0m\u001b[0;34m.\u001b[0m\u001b[0mshow\u001b[0m\u001b[0;34m(\u001b[0m\u001b[0;34m)\u001b[0m\u001b[0;34m\u001b[0m\u001b[0;34m\u001b[0m\u001b[0m\n\u001b[1;32m     41\u001b[0m \u001b[0;34m\u001b[0m\u001b[0m\n\u001b[0;32m---> 42\u001b[0;31m \u001b[0mDrawChannelsEqualization\u001b[0m\u001b[0;34m(\u001b[0m\u001b[0mim\u001b[0m\u001b[0;34m)\u001b[0m\u001b[0;34m\u001b[0m\u001b[0;34m\u001b[0m\u001b[0m\n\u001b[0m",
      "\u001b[0;31mNameError\u001b[0m: name 'im' is not defined"
     ]
    }
   ],
   "source": [
    "# OK, Do something interesting!\n",
    "# 写一个整合函数，对每个输入图像的三通道都画出其三通道的函数变换图像和\n",
    "\n",
    "\n",
    "def DrawPerChannel(input_img,split_channel : int, channel_color ,plotline = None, histogram = None, pic = None):\n",
    "#     该通道的均衡曲线（分布函数曲线）\n",
    "#     获取分离的通道\n",
    "    input_channel = input_img[:,:,split_channel]\n",
    "    temp_he,temp_table = HistogramEqualizationLUT(input_channel)\n",
    "    if plotline != None:\n",
    "        plotline.set_title(\"The function of \"+channel_color+\" channel\")\n",
    "        plotline.plot(np.arange(256),np.arange(256),color = \"black\",label = \"$r_{\" + channel_color +\"}$\")\n",
    "        plotline.plot(np.arange(256),temp_table,color = channel_color ,label = \"$T(r_{\"+ channel_color +\"})$\")\n",
    "        plotline.legend()\n",
    "#     该通道的灰度分布直方图\n",
    "    if histogram != None:\n",
    "        kwargs = dict(bins = 25, histtype='bar', edgecolor = \"white\",alpha=0.5, density  = True)\n",
    "        histogram.set_title(\"The histogram of \"+channel_color+\" channel\")\n",
    "        histogram.hist(input_channel.flatten(), color = \"black\",**kwargs, label = channel_color +\" original\")\n",
    "        histogram.hist(temp_he.flatten(), color = channel_color , **kwargs, label = channel_color +\" after he\")\n",
    "        histogram.legend()\n",
    "#     该通道均匀后叠加到原图像的效果\n",
    "    if pic != None:\n",
    "        show_img = input_img.copy()\n",
    "        show_img[:,:,split_channel] = temp_he\n",
    "        pic.imshow(show_img)\n",
    "    \n",
    "    \n",
    "    \n",
    "\n",
    "def DrawChannelsEqualization(img_with_3channels):\n",
    "    plt.figure(figsize=(30,30))\n",
    "#     调用库函数\n",
    "#     r,g,b = cv2.split(im)\n",
    "#     直接分离  \n",
    "#     r,g,b = img_with_3channels[:,:,0],img_with_3channels[:,:,1],img_with_3channels[:,:,2]\n",
    "    DrawPerChannel(img_with_3channels,0,\"red\",plt.subplot(331),plt.subplot(334),plt.subplot(337))\n",
    "    DrawPerChannel(img_with_3channels,1,\"green\",plt.subplot(332),plt.subplot(335),plt.subplot(338))\n",
    "    DrawPerChannel(img_with_3channels,2,\"blue\",plt.subplot(333),plt.subplot(336),plt.subplot(339))\n",
    "    plt.show()\n",
    "\n",
    "DrawChannelsEqualization(im)"
   ]
  },
  {
   "cell_type": "code",
   "execution_count": 3,
   "metadata": {
    "ExecuteTime": {
     "end_time": "2019-09-23T00:23:50.754402Z",
     "start_time": "2019-09-23T00:23:34.445859Z"
    }
   },
   "outputs": [
    {
     "ename": "NameError",
     "evalue": "name 'im' is not defined",
     "output_type": "error",
     "traceback": [
      "\u001b[0;31m---------------------------------------------------------------------------\u001b[0m",
      "\u001b[0;31mNameError\u001b[0m                                 Traceback (most recent call last)",
      "\u001b[0;32m<ipython-input-3-c77d5370e428>\u001b[0m in \u001b[0;36m<module>\u001b[0;34m\u001b[0m\n\u001b[1;32m     31\u001b[0m     \u001b[0mplt\u001b[0m\u001b[0;34m.\u001b[0m\u001b[0mshow\u001b[0m\u001b[0;34m(\u001b[0m\u001b[0;34m)\u001b[0m\u001b[0;34m\u001b[0m\u001b[0;34m\u001b[0m\u001b[0m\n\u001b[1;32m     32\u001b[0m \u001b[0;34m\u001b[0m\u001b[0m\n\u001b[0;32m---> 33\u001b[0;31m \u001b[0mDrawCompareEqualization\u001b[0m\u001b[0;34m(\u001b[0m\u001b[0mim\u001b[0m\u001b[0;34m)\u001b[0m\u001b[0;34m\u001b[0m\u001b[0;34m\u001b[0m\u001b[0m\n\u001b[0m",
      "\u001b[0;31mNameError\u001b[0m: name 'im' is not defined"
     ]
    }
   ],
   "source": [
    "# 测试三通道分别做均衡化后效果和采取统一函数做均衡化的效果\n",
    "def DrawCompareEqualization(im_with_3_channel):\n",
    "    together_img,together_table = HistogramEqualizationLUT(im_with_3_channel)\n",
    "    seperate_img = im_with_3_channel.copy()\n",
    "    seperate_table = np.array([together_table,together_table,together_table])\n",
    "    for i in range(3):\n",
    "        seperate_img[:,:,i],seperate_table[i] = HistogramEqualizationLUT(im_with_3_channel[:,:,i])\n",
    "    \n",
    "    plt.figure(figsize=(15,10))\n",
    "    plotline0 = plt.subplot(231)\n",
    "    plotline0.set_title(\"No Change\")\n",
    "    plotline0.plot(np.arange(256),np.arange(256),color = \"black\",label = \"$r$\")\n",
    "    plotline1 = plt.subplot(232)\n",
    "    plotline1.set_title(\"Seperate Change\")\n",
    "    plotline1.plot(np.arange(256),np.arange(256),color = \"black\",label = \"$r$\")\n",
    "    plotline1.plot(np.arange(256),seperate_table[0],color = \"red\" ,label = \"$T(r_{red})$\")   \n",
    "    plotline1.plot(np.arange(256),seperate_table[1],color = \"green\" ,label = \"$T(r_{green})$\")\n",
    "    plotline1.plot(np.arange(256),seperate_table[2],color = \"blue\" ,label = \"$T(r_{blue})$\")\n",
    "    plotline1.legend()\n",
    "    plotline2 = plt.subplot(233)\n",
    "    plotline2.set_title(\"Together Change\")\n",
    "    plotline2.plot(np.arange(256),np.arange(256),color = \"black\",label = \"$r$\")\n",
    "    plotline2.plot(np.arange(256),together_table,color = \"orange\" ,label = \"$T(r_{together})$\")\n",
    "    plotline2.legend()\n",
    "    pic0 = plt.subplot(234)\n",
    "    pic0.imshow(im_with_3_channel)\n",
    "    pic1 = plt.subplot(235)\n",
    "    pic1.imshow(seperate_img)\n",
    "    pic2 = plt.subplot(236)\n",
    "    pic2.imshow(together_img)\n",
    "    plt.show()\n",
    "\n",
    "DrawCompareEqualization(im)"
   ]
  },
  {
   "cell_type": "code",
   "execution_count": 4,
   "metadata": {
    "ExecuteTime": {
     "end_time": "2019-09-23T00:24:09.468150Z",
     "start_time": "2019-09-23T00:23:50.754402Z"
    }
   },
   "outputs": [
    {
     "ename": "NameError",
     "evalue": "name 'imageio' is not defined",
     "output_type": "error",
     "traceback": [
      "\u001b[0;31m---------------------------------------------------------------------------\u001b[0m",
      "\u001b[0;31mNameError\u001b[0m                                 Traceback (most recent call last)",
      "\u001b[0;32m<ipython-input-4-21e7bb297919>\u001b[0m in \u001b[0;36m<module>\u001b[0;34m\u001b[0m\n\u001b[1;32m      1\u001b[0m \u001b[0;31m# 多来几组样例\u001b[0m\u001b[0;34m\u001b[0m\u001b[0;34m\u001b[0m\u001b[0;34m\u001b[0m\u001b[0m\n\u001b[1;32m      2\u001b[0m \u001b[0;34m\u001b[0m\u001b[0m\n\u001b[0;32m----> 3\u001b[0;31m \u001b[0mimtest1\u001b[0m \u001b[0;34m=\u001b[0m \u001b[0mimageio\u001b[0m\u001b[0;34m.\u001b[0m\u001b[0mimread\u001b[0m\u001b[0;34m(\u001b[0m\u001b[0;34m'imageio:chelsea.png'\u001b[0m\u001b[0;34m)\u001b[0m\u001b[0;34m\u001b[0m\u001b[0;34m\u001b[0m\u001b[0m\n\u001b[0m\u001b[1;32m      4\u001b[0m \u001b[0mimtest2\u001b[0m \u001b[0;34m=\u001b[0m \u001b[0mGetRGB\u001b[0m\u001b[0;34m(\u001b[0m\u001b[0;34m'./3_2Photo/2.jpg'\u001b[0m\u001b[0;34m)\u001b[0m\u001b[0;34m\u001b[0m\u001b[0;34m\u001b[0m\u001b[0m\n\u001b[1;32m      5\u001b[0m \u001b[0mimtest3\u001b[0m \u001b[0;34m=\u001b[0m \u001b[0mGetRGB\u001b[0m\u001b[0;34m(\u001b[0m\u001b[0;34m'./3_2Photo/3.jpg'\u001b[0m\u001b[0;34m)\u001b[0m\u001b[0;34m\u001b[0m\u001b[0;34m\u001b[0m\u001b[0m\n",
      "\u001b[0;31mNameError\u001b[0m: name 'imageio' is not defined"
     ]
    }
   ],
   "source": [
    "# 多来几组样例\n",
    "\n",
    "imtest1 = imageio.imread('imageio:chelsea.png')\n",
    "imtest2 = GetRGB('./3_2Photo/2.jpg')\n",
    "imtest3 = GetRGB('./3_2Photo/3.jpg')\n",
    "imtest4 = GetRGB('./3_2Photo/4.tif')\n",
    "\n",
    "DrawCompareEqualization(imtest1)\n",
    "# DrawCompareEqualization(imtest2)\n",
    "DrawCompareEqualization(imtest3)\n",
    "DrawCompareEqualization(imtest4)"
   ]
  },
  {
   "cell_type": "code",
   "execution_count": 5,
   "metadata": {
    "ExecuteTime": {
     "end_time": "2019-09-23T00:24:13.353729Z",
     "start_time": "2019-09-23T00:24:09.468150Z"
    }
   },
   "outputs": [
    {
     "ename": "NameError",
     "evalue": "name 'plt' is not defined",
     "output_type": "error",
     "traceback": [
      "\u001b[0;31m---------------------------------------------------------------------------\u001b[0m",
      "\u001b[0;31mNameError\u001b[0m                                 Traceback (most recent call last)",
      "\u001b[0;32m<ipython-input-5-0be19040e71b>\u001b[0m in \u001b[0;36m<module>\u001b[0;34m\u001b[0m\n\u001b[1;32m      8\u001b[0m \u001b[0;34m\u001b[0m\u001b[0m\n\u001b[1;32m      9\u001b[0m \u001b[0;34m\u001b[0m\u001b[0m\n\u001b[0;32m---> 10\u001b[0;31m \u001b[0mplt\u001b[0m\u001b[0;34m.\u001b[0m\u001b[0mfigure\u001b[0m\u001b[0;34m(\u001b[0m\u001b[0mfigsize\u001b[0m\u001b[0;34m=\u001b[0m\u001b[0;34m(\u001b[0m\u001b[0;36m20\u001b[0m\u001b[0;34m,\u001b[0m\u001b[0;36m15\u001b[0m\u001b[0;34m)\u001b[0m\u001b[0;34m)\u001b[0m\u001b[0;34m\u001b[0m\u001b[0;34m\u001b[0m\u001b[0m\n\u001b[0m\u001b[1;32m     11\u001b[0m \u001b[0mDrawHist\u001b[0m\u001b[0;34m(\u001b[0m\u001b[0mimtest1\u001b[0m\u001b[0;34m[\u001b[0m\u001b[0;34m:\u001b[0m\u001b[0;34m,\u001b[0m\u001b[0;34m:\u001b[0m\u001b[0;34m,\u001b[0m\u001b[0;36m0\u001b[0m\u001b[0;34m]\u001b[0m\u001b[0;34m,\u001b[0m\u001b[0mplt\u001b[0m\u001b[0;34m.\u001b[0m\u001b[0msubplot\u001b[0m\u001b[0;34m(\u001b[0m\u001b[0;36m321\u001b[0m\u001b[0;34m)\u001b[0m\u001b[0;34m,\u001b[0m\u001b[0mplt\u001b[0m\u001b[0;34m.\u001b[0m\u001b[0msubplot\u001b[0m\u001b[0;34m(\u001b[0m\u001b[0;36m322\u001b[0m\u001b[0;34m)\u001b[0m\u001b[0;34m)\u001b[0m\u001b[0;34m\u001b[0m\u001b[0;34m\u001b[0m\u001b[0m\n\u001b[1;32m     12\u001b[0m \u001b[0mDrawHist\u001b[0m\u001b[0;34m(\u001b[0m\u001b[0mimtest2\u001b[0m\u001b[0;34m[\u001b[0m\u001b[0;34m:\u001b[0m\u001b[0;34m,\u001b[0m\u001b[0;34m:\u001b[0m\u001b[0;34m,\u001b[0m\u001b[0;36m0\u001b[0m\u001b[0;34m]\u001b[0m\u001b[0;34m,\u001b[0m\u001b[0mplt\u001b[0m\u001b[0;34m.\u001b[0m\u001b[0msubplot\u001b[0m\u001b[0;34m(\u001b[0m\u001b[0;36m323\u001b[0m\u001b[0;34m)\u001b[0m\u001b[0;34m,\u001b[0m\u001b[0mplt\u001b[0m\u001b[0;34m.\u001b[0m\u001b[0msubplot\u001b[0m\u001b[0;34m(\u001b[0m\u001b[0;36m324\u001b[0m\u001b[0;34m)\u001b[0m\u001b[0;34m)\u001b[0m\u001b[0;34m\u001b[0m\u001b[0;34m\u001b[0m\u001b[0m\n",
      "\u001b[0;31mNameError\u001b[0m: name 'plt' is not defined"
     ]
    }
   ],
   "source": [
    "# 展示直方图\n",
    "def DrawHist(input_img,pic_handle,histogram_handle):\n",
    "    kwargs = dict(bins = 25, histtype='bar', edgecolor = \"white\",alpha=0.5, density  = True)\n",
    "    pic_handle.set_title(\"The Image\")\n",
    "    pic_handle.imshow(input_img,cmap = \"gray\")\n",
    "    histogram_handle.set_title(\"The histogram_handle\")\n",
    "    histogram_handle.hist(input_img.flatten(),**kwargs)\n",
    "\n",
    "\n",
    "plt.figure(figsize=(20,15))\n",
    "DrawHist(imtest1[:,:,0],plt.subplot(321),plt.subplot(322))\n",
    "DrawHist(imtest2[:,:,0],plt.subplot(323),plt.subplot(324))\n",
    "DrawHist(imtest3[:,:,0],plt.subplot(325),plt.subplot(326))\n",
    "plt.show()"
   ]
  }
 ],
 "metadata": {
  "kernelspec": {
   "display_name": "Python 3",
   "language": "python",
   "name": "python3"
  },
  "language_info": {
   "codemirror_mode": {
    "name": "ipython",
    "version": 3
   },
   "file_extension": ".py",
   "mimetype": "text/x-python",
   "name": "python",
   "nbconvert_exporter": "python",
   "pygments_lexer": "ipython3",
   "version": "3.7.3"
  },
  "latex_envs": {
   "LaTeX_envs_menu_present": true,
   "autoclose": false,
   "autocomplete": true,
   "bibliofile": "biblio.bib",
   "cite_by": "apalike",
   "current_citInitial": 1,
   "eqLabelWithNumbers": true,
   "eqNumInitial": 1,
   "hotkeys": {
    "equation": "Ctrl-E",
    "itemize": "Ctrl-I"
   },
   "labels_anchors": false,
   "latex_user_defs": false,
   "report_style_numbering": false,
   "user_envs_cfg": false
  }
 },
 "nbformat": 4,
 "nbformat_minor": 2
}
