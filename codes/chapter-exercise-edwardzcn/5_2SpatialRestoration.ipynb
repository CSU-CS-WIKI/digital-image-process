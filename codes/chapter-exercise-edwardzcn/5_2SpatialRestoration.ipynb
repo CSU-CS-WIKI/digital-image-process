{
 "cells": [
  {
   "cell_type": "markdown",
   "metadata": {},
   "source": [
    "# 空间域滤波图像复原\n",
    "\n",
    "在5_1图像复原与重建初步中，我们研究了图像的噪声退化模型，以及常见的噪声模型及其实现，实际上这些噪声模型帮我们解决了前一篇文章(1)式中$\\eta(x,y)$的取值问题，同时再观察(1)式我们也能发现，当一幅图像中唯一存在的退化是噪声时，式(1)和式(2)会变成（简化）如下：\n",
    "\n",
    "$$g(x,y) = f(x,y) + \\eta (x,y)$$\n",
    "\n",
    "和\n",
    "\n",
    "$$G(u,v) = F(u,v) + N(u,v)$$\n",
    "\n",
    "我们发现没了“退化函数”，复原在空间域和频率域都是一个可加形式，估计噪声情况后，便可得到原图像的一个估计，故在仅存在加性噪声的情况下，可以选择空间滤波方法。\n",
    "\n",
    "一些简单实现在前面第三章已经讨论过，比如算数均值滤波器，这一章节主要是做更深入的研究。\n",
    "\n",
    "## 均值滤波器\n",
    "\n",
    "## 统计排序滤波器\n",
    "\n",
    "## 自适应滤波器\n",
    "\n",
    "有待后续学习补充。"
   ]
  }
 ],
 "metadata": {
  "kernelspec": {
   "display_name": "Python 3",
   "language": "python",
   "name": "python3"
  },
  "language_info": {
   "codemirror_mode": {
    "name": "ipython",
    "version": 3
   },
   "file_extension": ".py",
   "mimetype": "text/x-python",
   "name": "python",
   "nbconvert_exporter": "python",
   "pygments_lexer": "ipython3",
   "version": "3.7.4"
  },
  "latex_envs": {
   "LaTeX_envs_menu_present": true,
   "autoclose": false,
   "autocomplete": true,
   "bibliofile": "biblio.bib",
   "cite_by": "apalike",
   "current_citInitial": 1,
   "eqLabelWithNumbers": true,
   "eqNumInitial": 1,
   "hotkeys": {
    "equation": "Ctrl-E",
    "itemize": "Ctrl-I"
   },
   "labels_anchors": false,
   "latex_user_defs": false,
   "report_style_numbering": false,
   "user_envs_cfg": false
  }
 },
 "nbformat": 4,
 "nbformat_minor": 2
}
