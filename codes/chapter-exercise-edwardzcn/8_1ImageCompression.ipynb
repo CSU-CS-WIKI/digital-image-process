{
 "cells": [
  {
   "cell_type": "markdown",
   "metadata": {},
   "source": [
    "# 图像（数据）压缩\n",
    "\n",
    "多媒体信息的存储和传输：\n",
    "\n",
    "\n",
    "## 数据的冗余性\n",
    "\n",
    "- 空间荣誉\n",
    "\n",
    "    再同一幅图像中，规则物体和规则北京的表面物理特性具有相关性，这些相关性的光成像结果再数字化图像中就表现为数据冗余。\n",
    "\n",
    "\n",
    "- 时间冗余\n",
    "\n",
    "    时间冗余反映在视频图像序列中就是相邻帧图像之间有较大的相关性，一帧图像中的某物体或场景可以由其他帧图像中的物体或场景重构出来，音频的前后样值也有时间冗余。\n",
    "    \n",
    "- 听觉冗余\n",
    "\n",
    "    人们对于不同信号的频率敏感性不同\n",
    "    \n",
    "## 压缩的极限\n",
    "\n",
    "香农：信息的含量，图。\n",
    "\n",
    "香农（Shannon）1940s-150s提出的信息论\n",
    "\n",
    "$$H = - \\sum_{i=1}^{m} P(a_i) \\log_2(P(a_i))$$\n",
    "\n",
    "gzip,zip,PNG,GIF\n",
    "\n",
    "## 行程编码（Run-Length Coding）\n",
    "\n",
    "当数据中包含很多和比较少的1时，过去的传真等方式会出现：\n",
    "\n",
    "- 传真数据\n",
    "- 图像\n",
    "\n",
    "简单的行程编码示例\n",
    "\n",
    "## 词典编码（Dictionary Coding）\n",
    "\n",
    "词典编码并不采用字符的统计信息\n",
    "\n",
    "- 无需变长编码\n",
    "\n"
   ]
  },
  {
   "cell_type": "code",
   "execution_count": null,
   "metadata": {},
   "outputs": [],
   "source": []
  }
 ],
 "metadata": {
  "kernelspec": {
   "display_name": "Python 3",
   "language": "python",
   "name": "python3"
  },
  "language_info": {
   "codemirror_mode": {
    "name": "ipython",
    "version": 3
   },
   "file_extension": ".py",
   "mimetype": "text/x-python",
   "name": "python",
   "nbconvert_exporter": "python",
   "pygments_lexer": "ipython3",
   "version": "3.7.4"
  }
 },
 "nbformat": 4,
 "nbformat_minor": 2
}
