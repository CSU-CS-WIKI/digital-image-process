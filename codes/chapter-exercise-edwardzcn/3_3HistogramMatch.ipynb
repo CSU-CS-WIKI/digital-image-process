{
 "cells": [
  {
   "cell_type": "code",
   "execution_count": 31,
   "metadata": {
    "ExecuteTime": {
     "end_time": "2019-09-23T01:54:36.352875Z",
     "start_time": "2019-09-23T01:54:35.839882Z"
    }
   },
   "outputs": [],
   "source": [
    "import numpy as np\n",
    "import imageio\n",
    "import cv2\n",
    "import matplotlib.pyplot as plt\n",
    "\n",
    "im = imageio.imread('photo2.jpg')\n"
   ]
  },
  {
   "cell_type": "code",
   "execution_count": 16,
   "metadata": {
    "ExecuteTime": {
     "end_time": "2019-09-23T00:18:44.021478Z",
     "start_time": "2019-09-23T00:18:44.014811Z"
    }
   },
   "outputs": [],
   "source": [
    "# 获取RGB图像\n",
    "def GetRGB(path):\n",
    "    im_BGR = cv2.imread(path,cv2.COLOR_GRAY2RGB)\n",
    "    im = cv2.cvtColor(im_BGR,cv2.COLOR_BGR2RGB)\n",
    "    return im\n"
   ]
  },
  {
   "cell_type": "code",
   "execution_count": 1,
   "metadata": {
    "ExecuteTime": {
     "end_time": "2019-09-23T01:09:46.636828Z",
     "start_time": "2019-09-23T01:09:41.040500Z"
    }
   },
   "outputs": [
    {
     "ename": "NameError",
     "evalue": "name 'imageio' is not defined",
     "output_type": "error",
     "traceback": [
      "\u001b[0;31m---------------------------------------------------------------------------\u001b[0m",
      "\u001b[0;31mNameError\u001b[0m                                 Traceback (most recent call last)",
      "\u001b[0;32m<ipython-input-1-d02d80103831>\u001b[0m in \u001b[0;36m<module>\u001b[0;34m\u001b[0m\n\u001b[1;32m      7\u001b[0m     \u001b[0mhistogram_handle\u001b[0m\u001b[0;34m.\u001b[0m\u001b[0mhist\u001b[0m\u001b[0;34m(\u001b[0m\u001b[0minput_img\u001b[0m\u001b[0;34m.\u001b[0m\u001b[0mflatten\u001b[0m\u001b[0;34m(\u001b[0m\u001b[0;34m)\u001b[0m\u001b[0;34m,\u001b[0m\u001b[0;34m**\u001b[0m\u001b[0mkwargs\u001b[0m\u001b[0;34m)\u001b[0m\u001b[0;34m\u001b[0m\u001b[0;34m\u001b[0m\u001b[0m\n\u001b[1;32m      8\u001b[0m \u001b[0;34m\u001b[0m\u001b[0m\n\u001b[0;32m----> 9\u001b[0;31m \u001b[0mimtest0\u001b[0m \u001b[0;34m=\u001b[0m \u001b[0mimageio\u001b[0m\u001b[0;34m.\u001b[0m\u001b[0mimread\u001b[0m\u001b[0;34m(\u001b[0m\u001b[0;34m'imageio:chelsea.png'\u001b[0m\u001b[0;34m)\u001b[0m\u001b[0;34m\u001b[0m\u001b[0;34m\u001b[0m\u001b[0m\n\u001b[0m\u001b[1;32m     10\u001b[0m \u001b[0mimtest1\u001b[0m \u001b[0;34m=\u001b[0m \u001b[0mGetRGB\u001b[0m\u001b[0;34m(\u001b[0m\u001b[0;34m'./3_3Photo/3.jpg'\u001b[0m\u001b[0;34m)\u001b[0m\u001b[0;34m\u001b[0m\u001b[0;34m\u001b[0m\u001b[0m\n\u001b[1;32m     11\u001b[0m \u001b[0;34m\u001b[0m\u001b[0m\n",
      "\u001b[0;31mNameError\u001b[0m: name 'imageio' is not defined"
     ]
    }
   ],
   "source": [
    "# 展示直方图\n",
    "def DrawHist(input_img,pic_handle,histogram_handle):\n",
    "    kwargs = dict(bins = 50, histtype='bar', edgecolor = \"white\",alpha=0.5, density  = True)\n",
    "    pic_handle.set_title(\"The image\")\n",
    "    pic_handle.imshow(input_img)\n",
    "    histogram_handle.set_title(\"The histogram\")\n",
    "    histogram_handle.hist(input_img.flatten(),**kwargs)\n",
    "\n",
    "imtest0 = imageio.imread('imageio:chelsea.png')\n",
    "imtest1 = GetRGB('./3_3Photo/3.jpg')\n",
    "\n",
    "plt.figure(figsize=(20,10))\n",
    "DrawHist(imtest0,plt.subplot(221),plt.subplot(222))\n",
    "DrawHist(imtest1,plt.subplot(223),plt.subplot(224))\n",
    "\n",
    "plt.show()"
   ]
  },
  {
   "cell_type": "code",
   "execution_count": 2,
   "metadata": {
    "ExecuteTime": {
     "end_time": "2019-09-23T01:10:15.971642Z",
     "start_time": "2019-09-23T01:10:01.121325Z"
    }
   },
   "outputs": [
    {
     "ename": "NameError",
     "evalue": "name 'imtest0' is not defined",
     "output_type": "error",
     "traceback": [
      "\u001b[0;31m---------------------------------------------------------------------------\u001b[0m",
      "\u001b[0;31mNameError\u001b[0m                                 Traceback (most recent call last)",
      "\u001b[0;32m<ipython-input-2-214f13c573f2>\u001b[0m in \u001b[0;36m<module>\u001b[0;34m\u001b[0m\n\u001b[1;32m     64\u001b[0m \u001b[0;34m\u001b[0m\u001b[0m\n\u001b[1;32m     65\u001b[0m \u001b[0;34m\u001b[0m\u001b[0m\n\u001b[0;32m---> 66\u001b[0;31m \u001b[0mimtest0_he\u001b[0m\u001b[0;34m,\u001b[0m\u001b[0mimtest0_tabel\u001b[0m \u001b[0;34m=\u001b[0m \u001b[0mHistogramEqualizationLUT\u001b[0m\u001b[0;34m(\u001b[0m\u001b[0mimtest0\u001b[0m\u001b[0;34m)\u001b[0m\u001b[0;34m\u001b[0m\u001b[0;34m\u001b[0m\u001b[0m\n\u001b[0m\u001b[1;32m     67\u001b[0m \u001b[0mimtest1_he\u001b[0m\u001b[0;34m,\u001b[0m\u001b[0mimtest1_tabel\u001b[0m \u001b[0;34m=\u001b[0m \u001b[0mHistogramEqualizationLUT\u001b[0m\u001b[0;34m(\u001b[0m\u001b[0mimtest1\u001b[0m\u001b[0;34m)\u001b[0m\u001b[0;34m\u001b[0m\u001b[0;34m\u001b[0m\u001b[0m\n\u001b[1;32m     68\u001b[0m \u001b[0mplt\u001b[0m\u001b[0;34m.\u001b[0m\u001b[0mfigure\u001b[0m\u001b[0;34m(\u001b[0m\u001b[0mfigsize\u001b[0m\u001b[0;34m=\u001b[0m\u001b[0;34m(\u001b[0m\u001b[0;36m20\u001b[0m\u001b[0;34m,\u001b[0m\u001b[0;36m20\u001b[0m\u001b[0;34m)\u001b[0m\u001b[0;34m)\u001b[0m\u001b[0;34m\u001b[0m\u001b[0;34m\u001b[0m\u001b[0m\n",
      "\u001b[0;31mNameError\u001b[0m: name 'imtest0' is not defined"
     ]
    }
   ],
   "source": [
    "# 尝试直方图均衡化， \n",
    "def CaculateHistogram(input_image):\n",
    "    # 参数1. 单通道8位灰度图像\n",
    "    # 输出1. 总像素值  \n",
    "    # 输出2. 灰度值分布计数\n",
    "    # 输出3. 灰度值分布前缀和（用来做后续直方图平局奴化）\n",
    "    \n",
    "    # 区分通道\n",
    "    if len(np.shape(input_image)) == 3:\n",
    "           height,width,level = np.shape(input_image)\n",
    "           summ = height*width*level\n",
    "    else :\n",
    "           height,width = np.shape(input_image)\n",
    "           summ = height*width\n",
    "\n",
    "    \n",
    "#     第一种 通过访问指定位置像素  耗时executed in 7m 9s\n",
    "#     巨慢无比\n",
    "#     for i in range(height):\n",
    "#         for j in range(width):\n",
    "#             caculate_num[input_image[i][j]] += 1\n",
    "            \n",
    "#     第二种 直接拆分行，像素获取像素值  耗时executed in 14.4s\n",
    "#     for line in input_image:\n",
    "#         for px in line:\n",
    "#             caculate_num[px] +=1 \n",
    "\n",
    "#     第三种 调用np.histogram()方法  耗时executed in 644ms\n",
    "    caculate_num,index_x = GetHistogramArray(input_image)\n",
    "    caculate_num = np.append(caculate_num,1)\n",
    "#     print(np.shape(caculate_num))\n",
    "    #     第四种 吕少推荐的方法(还没看懂)\n",
    "#     caculate_num = cumsum(input_image,256)\n",
    "#     print(np.shape(caculate_num))\n",
    "    \n",
    "    sum_num = np.copy(caculate_num)\n",
    "    for i in range(1,256):\n",
    "#         print(sum_num[i-1],caculate_num[i])\n",
    "        sum_num[i] = sum_num[i-1] + sum_num[i]\n",
    "    return summ,caculate_num,sum_num\n",
    "    \n",
    "def GetHistogramArray(image):\n",
    "    return np.histogram(image,np.arange(0,256));\n",
    "\n",
    "def cumsum(img, bins):\n",
    "    \n",
    "    histogram = np.zeros(bins)\n",
    "    for pixel in np.arange(0, bins, 1):\n",
    "        histogram[pixel] += len(img[img==pixel])\n",
    "        \n",
    "    return histogram\n",
    "    \n",
    "def HistogramEqualizationLUT(input_image):\n",
    "    # 参数1, 单通道8位灰度图像\n",
    "    # 输出1. 单通道8位灰度图像（直方图均衡化后）\n",
    "    size,data,data_sum = CaculateHistogram(input_image)\n",
    "    fxy  = lambda x: (255*data_sum[x])//size\n",
    "    table = np.array([fxy(i) for i in range(256)])\n",
    "#     print(table)\n",
    "#     不可以这样\n",
    "#     image_new = table[input_image]\n",
    "    lut = lambda x: table[x]\n",
    "    return lut(input_image),table\n",
    "\n",
    "\n",
    "imtest0_he,imtest0_tabel = HistogramEqualizationLUT(imtest0)\n",
    "imtest1_he,imtest1_tabel = HistogramEqualizationLUT(imtest1)\n",
    "plt.figure(figsize=(20,20))\n",
    "DrawHist(imtest0,plt.subplot(421),plt.subplot(422))\n",
    "DrawHist(imtest0_he,plt.subplot(423),plt.subplot(424))\n",
    "DrawHist(imtest1,plt.subplot(425),plt.subplot(426))\n",
    "DrawHist(imtest1_he,plt.subplot(427),plt.subplot(428))"
   ]
  },
  {
   "cell_type": "code",
   "execution_count": 3,
   "metadata": {
    "ExecuteTime": {
     "end_time": "2019-09-23T02:23:04.302587Z",
     "start_time": "2019-09-23T02:23:01.730074Z"
    }
   },
   "outputs": [
    {
     "ename": "NameError",
     "evalue": "name 'plt' is not defined",
     "output_type": "error",
     "traceback": [
      "\u001b[0;31m---------------------------------------------------------------------------\u001b[0m",
      "\u001b[0;31mNameError\u001b[0m                                 Traceback (most recent call last)",
      "\u001b[0;32m<ipython-input-3-c6c38fddf075>\u001b[0m in \u001b[0;36m<module>\u001b[0;34m\u001b[0m\n\u001b[0;32m----> 1\u001b[0;31m \u001b[0mplt\u001b[0m\u001b[0;34m.\u001b[0m\u001b[0mfigure\u001b[0m\u001b[0;34m(\u001b[0m\u001b[0mfigsize\u001b[0m\u001b[0;34m=\u001b[0m\u001b[0;34m(\u001b[0m\u001b[0;36m15\u001b[0m\u001b[0;34m,\u001b[0m\u001b[0;36m5\u001b[0m\u001b[0;34m)\u001b[0m\u001b[0;34m)\u001b[0m\u001b[0;34m\u001b[0m\u001b[0;34m\u001b[0m\u001b[0m\n\u001b[0m\u001b[1;32m      2\u001b[0m \u001b[0mplotline\u001b[0m \u001b[0;34m=\u001b[0m \u001b[0mplt\u001b[0m\u001b[0;34m.\u001b[0m\u001b[0msubplot\u001b[0m\u001b[0;34m(\u001b[0m\u001b[0;36m121\u001b[0m\u001b[0;34m)\u001b[0m\u001b[0;34m\u001b[0m\u001b[0;34m\u001b[0m\u001b[0m\n\u001b[1;32m      3\u001b[0m \u001b[0mplotline\u001b[0m\u001b[0;34m.\u001b[0m\u001b[0mset_title\u001b[0m\u001b[0;34m(\u001b[0m\u001b[0;34m\"The function\"\u001b[0m\u001b[0;34m)\u001b[0m\u001b[0;34m\u001b[0m\u001b[0;34m\u001b[0m\u001b[0m\n\u001b[1;32m      4\u001b[0m \u001b[0mplotline\u001b[0m\u001b[0;34m.\u001b[0m\u001b[0mplot\u001b[0m\u001b[0;34m(\u001b[0m\u001b[0mnp\u001b[0m\u001b[0;34m.\u001b[0m\u001b[0marange\u001b[0m\u001b[0;34m(\u001b[0m\u001b[0;36m256\u001b[0m\u001b[0;34m)\u001b[0m\u001b[0;34m,\u001b[0m\u001b[0mnp\u001b[0m\u001b[0;34m.\u001b[0m\u001b[0marange\u001b[0m\u001b[0;34m(\u001b[0m\u001b[0;36m256\u001b[0m\u001b[0;34m)\u001b[0m\u001b[0;34m,\u001b[0m\u001b[0mcolor\u001b[0m \u001b[0;34m=\u001b[0m \u001b[0;34m'black'\u001b[0m\u001b[0;34m,\u001b[0m\u001b[0mlabel\u001b[0m \u001b[0;34m=\u001b[0m \u001b[0;34m\"$r$\"\u001b[0m\u001b[0;34m)\u001b[0m\u001b[0;34m\u001b[0m\u001b[0;34m\u001b[0m\u001b[0m\n\u001b[1;32m      5\u001b[0m \u001b[0mplotline\u001b[0m\u001b[0;34m.\u001b[0m\u001b[0mplot\u001b[0m\u001b[0;34m(\u001b[0m\u001b[0mnp\u001b[0m\u001b[0;34m.\u001b[0m\u001b[0marange\u001b[0m\u001b[0;34m(\u001b[0m\u001b[0;36m256\u001b[0m\u001b[0;34m)\u001b[0m\u001b[0;34m,\u001b[0m\u001b[0mimtest0_tabel\u001b[0m\u001b[0;34m,\u001b[0m\u001b[0mlabel\u001b[0m \u001b[0;34m=\u001b[0m \u001b[0;34m\"$T(r)$\"\u001b[0m\u001b[0;34m)\u001b[0m\u001b[0;34m\u001b[0m\u001b[0;34m\u001b[0m\u001b[0m\n",
      "\u001b[0;31mNameError\u001b[0m: name 'plt' is not defined"
     ]
    }
   ],
   "source": [
    "plt.figure(figsize=(15,5))\n",
    "plotline = plt.subplot(121)\n",
    "plotline.set_title(\"The function\")\n",
    "plotline.plot(np.arange(256),np.arange(256),color = 'black',label = \"$r$\")\n",
    "plotline.plot(np.arange(256),imtest0_tabel,label = \"$T(r)$\")\n",
    "plotline.plot(np.arange(256),imtest1_tabel,label = \"$G(z)$\")\n",
    "plotline.legend()\n",
    "\n",
    "kwargs = dict(bins = 50, histtype='bar', edgecolor = \"white\",alpha=0.6, density  = True)\n",
    "histogram = plt.subplot(122)\n",
    "histogram.set_title(\"The histogram\")\n",
    "histogram.hist(imtest0.flatten(),**kwargs, label = \"imtest0 $p_r(r)$\" )\n",
    "histogram.hist(imtest1.flatten(), **kwargs, label = \"imtest1 $p_z(z)$\")\n",
    "histogram.legend()\n",
    "plt.show()"
   ]
  },
  {
   "cell_type": "code",
   "execution_count": 4,
   "metadata": {
    "ExecuteTime": {
     "end_time": "2019-09-23T02:15:31.034311Z",
     "start_time": "2019-09-23T02:15:30.970564Z"
    }
   },
   "outputs": [
    {
     "ename": "NameError",
     "evalue": "name 'imtest1_tabel' is not defined",
     "output_type": "error",
     "traceback": [
      "\u001b[0;31m---------------------------------------------------------------------------\u001b[0m",
      "\u001b[0;31mNameError\u001b[0m                                 Traceback (most recent call last)",
      "\u001b[0;32m<ipython-input-4-73001934f780>\u001b[0m in \u001b[0;36m<module>\u001b[0;34m\u001b[0m\n\u001b[1;32m     10\u001b[0m     \u001b[0;32mreturn\u001b[0m \u001b[0mnew_table\u001b[0m\u001b[0;34m\u001b[0m\u001b[0;34m\u001b[0m\u001b[0m\n\u001b[1;32m     11\u001b[0m \u001b[0;34m\u001b[0m\u001b[0m\n\u001b[0;32m---> 12\u001b[0;31m \u001b[0mreverse_imtest1_table\u001b[0m \u001b[0;34m=\u001b[0m \u001b[0mGetReverseTable\u001b[0m\u001b[0;34m(\u001b[0m\u001b[0mimtest1_tabel\u001b[0m\u001b[0;34m)\u001b[0m\u001b[0;34m\u001b[0m\u001b[0;34m\u001b[0m\u001b[0m\n\u001b[0m\u001b[1;32m     13\u001b[0m \u001b[0mmatch_imtest0_table\u001b[0m \u001b[0;34m=\u001b[0m \u001b[0mreverse_imtest1_table\u001b[0m\u001b[0;34m[\u001b[0m\u001b[0mimtest0_tabel\u001b[0m\u001b[0;34m]\u001b[0m\u001b[0;34m\u001b[0m\u001b[0;34m\u001b[0m\u001b[0m\n\u001b[1;32m     14\u001b[0m \u001b[0mmatch_imtest0\u001b[0m \u001b[0;34m=\u001b[0m \u001b[0mmatch_imtest0_table\u001b[0m\u001b[0;34m[\u001b[0m\u001b[0mimtest0\u001b[0m\u001b[0;34m]\u001b[0m\u001b[0;34m\u001b[0m\u001b[0;34m\u001b[0m\u001b[0m\n",
      "\u001b[0;31mNameError\u001b[0m: name 'imtest1_tabel' is not defined"
     ]
    }
   ],
   "source": [
    "# 获取目标图像累积分布函数的反函数lut表（离散）\n",
    "def GetReverseTable(raw_table):\n",
    "\n",
    "    new_table = np.zeros(256,dtype = np.int64)\n",
    "    cnt = 0\n",
    "    for i in range(256):\n",
    "        while cnt<=raw_table[i]:\n",
    "            new_table[cnt] = i\n",
    "            cnt+=1\n",
    "    return new_table\n",
    "\n",
    "reverse_imtest1_table = GetReverseTable(imtest1_tabel)\n",
    "match_imtest0_table = reverse_imtest1_table[imtest0_tabel]\n",
    "match_imtest0 = match_imtest0_table[imtest0]\n",
    "\n"
   ]
  },
  {
   "cell_type": "code",
   "execution_count": 5,
   "metadata": {
    "ExecuteTime": {
     "end_time": "2019-09-23T02:43:28.894967Z",
     "start_time": "2019-09-23T02:43:26.301491Z"
    }
   },
   "outputs": [
    {
     "ename": "NameError",
     "evalue": "name 'plt' is not defined",
     "output_type": "error",
     "traceback": [
      "\u001b[0;31m---------------------------------------------------------------------------\u001b[0m",
      "\u001b[0;31mNameError\u001b[0m                                 Traceback (most recent call last)",
      "\u001b[0;32m<ipython-input-5-65d3d3bcc694>\u001b[0m in \u001b[0;36m<module>\u001b[0;34m\u001b[0m\n\u001b[1;32m      1\u001b[0m \u001b[0;31m# 加入反函数，再绘图\u001b[0m\u001b[0;34m\u001b[0m\u001b[0;34m\u001b[0m\u001b[0;34m\u001b[0m\u001b[0m\n\u001b[0;32m----> 2\u001b[0;31m \u001b[0mplt\u001b[0m\u001b[0;34m.\u001b[0m\u001b[0mfigure\u001b[0m\u001b[0;34m(\u001b[0m\u001b[0mfigsize\u001b[0m\u001b[0;34m=\u001b[0m\u001b[0;34m(\u001b[0m\u001b[0;36m15\u001b[0m\u001b[0;34m,\u001b[0m\u001b[0;36m5\u001b[0m\u001b[0;34m)\u001b[0m\u001b[0;34m)\u001b[0m\u001b[0;34m\u001b[0m\u001b[0;34m\u001b[0m\u001b[0m\n\u001b[0m\u001b[1;32m      3\u001b[0m \u001b[0mplotline\u001b[0m \u001b[0;34m=\u001b[0m \u001b[0mplt\u001b[0m\u001b[0;34m.\u001b[0m\u001b[0msubplot\u001b[0m\u001b[0;34m(\u001b[0m\u001b[0;36m121\u001b[0m\u001b[0;34m)\u001b[0m\u001b[0;34m\u001b[0m\u001b[0;34m\u001b[0m\u001b[0m\n\u001b[1;32m      4\u001b[0m \u001b[0mplotline\u001b[0m\u001b[0;34m.\u001b[0m\u001b[0mset_title\u001b[0m\u001b[0;34m(\u001b[0m\u001b[0;34m\"The function\"\u001b[0m\u001b[0;34m)\u001b[0m\u001b[0;34m\u001b[0m\u001b[0;34m\u001b[0m\u001b[0m\n\u001b[1;32m      5\u001b[0m \u001b[0mplotline\u001b[0m\u001b[0;34m.\u001b[0m\u001b[0mplot\u001b[0m\u001b[0;34m(\u001b[0m\u001b[0mnp\u001b[0m\u001b[0;34m.\u001b[0m\u001b[0marange\u001b[0m\u001b[0;34m(\u001b[0m\u001b[0;36m256\u001b[0m\u001b[0;34m)\u001b[0m\u001b[0;34m,\u001b[0m\u001b[0mimtest0_tabel\u001b[0m\u001b[0;34m,\u001b[0m\u001b[0mlabel\u001b[0m \u001b[0;34m=\u001b[0m \u001b[0;34m\"$T(r)$\"\u001b[0m\u001b[0;34m)\u001b[0m\u001b[0;34m\u001b[0m\u001b[0;34m\u001b[0m\u001b[0m\n",
      "\u001b[0;31mNameError\u001b[0m: name 'plt' is not defined"
     ]
    }
   ],
   "source": [
    "# 加入反函数，再绘图\n",
    "plt.figure(figsize=(15,5))\n",
    "plotline = plt.subplot(121)\n",
    "plotline.set_title(\"The function\")\n",
    "plotline.plot(np.arange(256),imtest0_tabel,label = \"$T(r)$\")\n",
    "plotline.plot(np.arange(256),np.arange(256),color = \"black\",label = \"$r$\")\n",
    "plotline.plot(np.arange(256),imtest1_tabel,label = \"$G(z)$\")\n",
    "plotline.plot(np.arange(256),reverse_imtest1_table, label = \"$G^{-1}(z)$\")\n",
    "plotline.plot(np.arange(256),match_imtest0_table, label= \"$G^{-1}(T(r)), N(r)$\")\n",
    "plotline.legend()\n",
    "\n",
    "\n",
    "# 设置直方图参数 分割块 叠加模式 边界颜色 透明度 正则化（映射到0~1）\n",
    "kwargs = dict(bins = 50, histtype='bar', edgecolor = \"white\",alpha=0.5, density  = True)\n",
    "histogram1 = plt.subplot(122)\n",
    "histogram1.set_title(\"The histogram\")\n",
    "histogram1.hist(imtest0.flatten(),color = \"black\",label = \"imtest0 original\",**kwargs )\n",
    "histogram1.hist(imtest1.flatten(),label = \"imtest1 original\",**kwargs)\n",
    "histogram1.hist(match_imtest0.flatten(),label = \"imtest0 after match\",**kwargs)\n",
    "histogram1.legend()\n",
    "\n",
    "plt.show()"
   ]
  },
  {
   "cell_type": "code",
   "execution_count": 6,
   "metadata": {
    "ExecuteTime": {
     "end_time": "2019-09-23T02:27:40.956966Z",
     "start_time": "2019-09-23T02:27:38.676988Z"
    }
   },
   "outputs": [
    {
     "ename": "NameError",
     "evalue": "name 'plt' is not defined",
     "output_type": "error",
     "traceback": [
      "\u001b[0;31m---------------------------------------------------------------------------\u001b[0m",
      "\u001b[0;31mNameError\u001b[0m                                 Traceback (most recent call last)",
      "\u001b[0;32m<ipython-input-6-15c96537173e>\u001b[0m in \u001b[0;36m<module>\u001b[0;34m\u001b[0m\n\u001b[1;32m      1\u001b[0m \u001b[0;31m# 输出三种图像\u001b[0m\u001b[0;34m\u001b[0m\u001b[0;34m\u001b[0m\u001b[0;34m\u001b[0m\u001b[0m\n\u001b[0;32m----> 2\u001b[0;31m \u001b[0mplt\u001b[0m\u001b[0;34m.\u001b[0m\u001b[0mfigure\u001b[0m\u001b[0;34m(\u001b[0m\u001b[0mfigsize\u001b[0m\u001b[0;34m=\u001b[0m\u001b[0;34m(\u001b[0m\u001b[0;36m20\u001b[0m\u001b[0;34m,\u001b[0m\u001b[0;36m15\u001b[0m\u001b[0;34m)\u001b[0m\u001b[0;34m)\u001b[0m\u001b[0;34m\u001b[0m\u001b[0;34m\u001b[0m\u001b[0m\n\u001b[0m\u001b[1;32m      3\u001b[0m \u001b[0mDrawHist\u001b[0m\u001b[0;34m(\u001b[0m\u001b[0mimtest0\u001b[0m\u001b[0;34m,\u001b[0m\u001b[0mplt\u001b[0m\u001b[0;34m.\u001b[0m\u001b[0msubplot\u001b[0m\u001b[0;34m(\u001b[0m\u001b[0;36m321\u001b[0m\u001b[0;34m)\u001b[0m\u001b[0;34m,\u001b[0m\u001b[0mplt\u001b[0m\u001b[0;34m.\u001b[0m\u001b[0msubplot\u001b[0m\u001b[0;34m(\u001b[0m\u001b[0;36m322\u001b[0m\u001b[0;34m)\u001b[0m\u001b[0;34m)\u001b[0m\u001b[0;34m\u001b[0m\u001b[0;34m\u001b[0m\u001b[0m\n\u001b[1;32m      4\u001b[0m \u001b[0mDrawHist\u001b[0m\u001b[0;34m(\u001b[0m\u001b[0mimtest0_he\u001b[0m\u001b[0;34m,\u001b[0m\u001b[0mplt\u001b[0m\u001b[0;34m.\u001b[0m\u001b[0msubplot\u001b[0m\u001b[0;34m(\u001b[0m\u001b[0;36m323\u001b[0m\u001b[0;34m)\u001b[0m\u001b[0;34m,\u001b[0m\u001b[0mplt\u001b[0m\u001b[0;34m.\u001b[0m\u001b[0msubplot\u001b[0m\u001b[0;34m(\u001b[0m\u001b[0;36m324\u001b[0m\u001b[0;34m)\u001b[0m\u001b[0;34m)\u001b[0m\u001b[0;34m\u001b[0m\u001b[0;34m\u001b[0m\u001b[0m\n\u001b[1;32m      5\u001b[0m \u001b[0mDrawHist\u001b[0m\u001b[0;34m(\u001b[0m\u001b[0mmatch_imtest0\u001b[0m\u001b[0;34m,\u001b[0m\u001b[0mplt\u001b[0m\u001b[0;34m.\u001b[0m\u001b[0msubplot\u001b[0m\u001b[0;34m(\u001b[0m\u001b[0;36m325\u001b[0m\u001b[0;34m)\u001b[0m\u001b[0;34m,\u001b[0m\u001b[0mplt\u001b[0m\u001b[0;34m.\u001b[0m\u001b[0msubplot\u001b[0m\u001b[0;34m(\u001b[0m\u001b[0;36m326\u001b[0m\u001b[0;34m)\u001b[0m\u001b[0;34m)\u001b[0m\u001b[0;34m\u001b[0m\u001b[0;34m\u001b[0m\u001b[0m\n",
      "\u001b[0;31mNameError\u001b[0m: name 'plt' is not defined"
     ]
    }
   ],
   "source": [
    "# 输出三种图像\n",
    "plt.figure(figsize=(20,15))\n",
    "DrawHist(imtest0,plt.subplot(321),plt.subplot(322))\n",
    "DrawHist(imtest0_he,plt.subplot(323),plt.subplot(324))\n",
    "DrawHist(match_imtest0,plt.subplot(325),plt.subplot(326))\n",
    "plt.show()"
   ]
  }
 ],
 "metadata": {
  "kernelspec": {
   "display_name": "Python 3",
   "language": "python",
   "name": "python3"
  },
  "language_info": {
   "codemirror_mode": {
    "name": "ipython",
    "version": 3
   },
   "file_extension": ".py",
   "mimetype": "text/x-python",
   "name": "python",
   "nbconvert_exporter": "python",
   "pygments_lexer": "ipython3",
   "version": "3.7.3"
  },
  "latex_envs": {
   "LaTeX_envs_menu_present": true,
   "autoclose": false,
   "autocomplete": true,
   "bibliofile": "biblio.bib",
   "cite_by": "apalike",
   "current_citInitial": 1,
   "eqLabelWithNumbers": true,
   "eqNumInitial": 1,
   "hotkeys": {
    "equation": "Ctrl-E",
    "itemize": "Ctrl-I"
   },
   "labels_anchors": false,
   "latex_user_defs": false,
   "report_style_numbering": false,
   "user_envs_cfg": false
  }
 },
 "nbformat": 4,
 "nbformat_minor": 2
}
